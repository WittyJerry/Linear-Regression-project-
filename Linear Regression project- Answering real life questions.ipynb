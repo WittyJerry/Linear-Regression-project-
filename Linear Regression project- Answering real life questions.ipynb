{
 "cells": [
  {
   "cell_type": "markdown",
   "id": "d001630b",
   "metadata": {},
   "source": [
    "# SOLUTIONS"
   ]
  },
  {
   "cell_type": "markdown",
   "id": "9362d459",
   "metadata": {},
   "source": [
    "# QUESTION 1"
   ]
  },
  {
   "cell_type": "code",
   "execution_count": 1,
   "id": "aeadf723",
   "metadata": {},
   "outputs": [],
   "source": [
    "#IMPORT LIBRARIES\n",
    "import pandas as pd\n",
    "import numpy as np\n",
    "import matplotlib.pyplot as plt\n",
    "%matplotlib inline"
   ]
  },
  {
   "cell_type": "code",
   "execution_count": 2,
   "id": "25f5a856",
   "metadata": {},
   "outputs": [],
   "source": [
    "#CREATE A DICTIONARY\n",
    "Great_Britain= {'Number_of_Lawyers': [12,7,11,19,5,21,3,4,17], \n",
    "                'Number_of_cars_stolen_last_week': [14,3,21,28,6,43,1,12,30]}"
   ]
  },
  {
   "cell_type": "code",
   "execution_count": 3,
   "id": "24781664",
   "metadata": {},
   "outputs": [],
   "source": [
    "#CREATE A DATAFRAME FROM THE DICTIONARY\n",
    "df= pd.DataFrame (Great_Britain)"
   ]
  },
  {
   "cell_type": "code",
   "execution_count": 4,
   "id": "9182b410",
   "metadata": {},
   "outputs": [
    {
     "data": {
      "text/html": [
       "<div>\n",
       "<style scoped>\n",
       "    .dataframe tbody tr th:only-of-type {\n",
       "        vertical-align: middle;\n",
       "    }\n",
       "\n",
       "    .dataframe tbody tr th {\n",
       "        vertical-align: top;\n",
       "    }\n",
       "\n",
       "    .dataframe thead th {\n",
       "        text-align: right;\n",
       "    }\n",
       "</style>\n",
       "<table border=\"1\" class=\"dataframe\">\n",
       "  <thead>\n",
       "    <tr style=\"text-align: right;\">\n",
       "      <th></th>\n",
       "      <th>Number_of_Lawyers</th>\n",
       "      <th>Number_of_cars_stolen_last_week</th>\n",
       "    </tr>\n",
       "  </thead>\n",
       "  <tbody>\n",
       "    <tr>\n",
       "      <th>0</th>\n",
       "      <td>12</td>\n",
       "      <td>14</td>\n",
       "    </tr>\n",
       "    <tr>\n",
       "      <th>1</th>\n",
       "      <td>7</td>\n",
       "      <td>3</td>\n",
       "    </tr>\n",
       "    <tr>\n",
       "      <th>2</th>\n",
       "      <td>11</td>\n",
       "      <td>21</td>\n",
       "    </tr>\n",
       "    <tr>\n",
       "      <th>3</th>\n",
       "      <td>19</td>\n",
       "      <td>28</td>\n",
       "    </tr>\n",
       "    <tr>\n",
       "      <th>4</th>\n",
       "      <td>5</td>\n",
       "      <td>6</td>\n",
       "    </tr>\n",
       "    <tr>\n",
       "      <th>5</th>\n",
       "      <td>21</td>\n",
       "      <td>43</td>\n",
       "    </tr>\n",
       "    <tr>\n",
       "      <th>6</th>\n",
       "      <td>3</td>\n",
       "      <td>1</td>\n",
       "    </tr>\n",
       "    <tr>\n",
       "      <th>7</th>\n",
       "      <td>4</td>\n",
       "      <td>12</td>\n",
       "    </tr>\n",
       "    <tr>\n",
       "      <th>8</th>\n",
       "      <td>17</td>\n",
       "      <td>30</td>\n",
       "    </tr>\n",
       "  </tbody>\n",
       "</table>\n",
       "</div>"
      ],
      "text/plain": [
       "   Number_of_Lawyers  Number_of_cars_stolen_last_week\n",
       "0                 12                               14\n",
       "1                  7                                3\n",
       "2                 11                               21\n",
       "3                 19                               28\n",
       "4                  5                                6\n",
       "5                 21                               43\n",
       "6                  3                                1\n",
       "7                  4                               12\n",
       "8                 17                               30"
      ]
     },
     "execution_count": 4,
     "metadata": {},
     "output_type": "execute_result"
    }
   ],
   "source": [
    "#VIEW THE DATAFRAME\n",
    "df"
   ]
  },
  {
   "cell_type": "code",
   "execution_count": 5,
   "id": "abbf69f0",
   "metadata": {},
   "outputs": [],
   "source": [
    "#DEFINING FEATURE AND TARGET VALUE\n",
    "x =df.Number_of_Lawyers\n",
    "y =df.Number_of_cars_stolen_last_week"
   ]
  },
  {
   "cell_type": "code",
   "execution_count": 6,
   "id": "5fdb71d5",
   "metadata": {},
   "outputs": [
    {
     "data": {
      "image/png": "[encoded data removed]",
      "text/plain": [
       "<Figure size 432x288 with 1 Axes>"
      ]
     },
     "metadata": {
      "needs_background": "light"
     },
     "output_type": "display_data"
    }
   ],
   "source": [
    "#PLOTTING FEATURE (X) AND TARGET (Y)\n",
    "plt.scatter(x,y)\n",
    "plt.show()"
   ]
  },
  {
   "cell_type": "code",
   "execution_count": 7,
   "id": "1cd62d97",
   "metadata": {},
   "outputs": [],
   "source": [
    "#MACHINE LEARNING: LINEAR REGRESSION\n",
    "model = np.polyfit(x, y, 1)"
   ]
  },
  {
   "cell_type": "code",
   "execution_count": 8,
   "id": "a0d49e56",
   "metadata": {},
   "outputs": [
    {
     "data": {
      "text/plain": [
       "array([ 1.93442623, -3.72313297])"
      ]
     },
     "execution_count": 8,
     "metadata": {},
     "output_type": "execute_result"
    }
   ],
   "source": [
    "#OBTAINIG THE RESULT (Equation of the trendline)\n",
    "model"
   ]
  },
  {
   "cell_type": "code",
   "execution_count": 9,
   "id": "3521e439",
   "metadata": {},
   "outputs": [
    {
     "data": {
      "text/plain": [
       "25.29326047358833"
      ]
     },
     "execution_count": 9,
     "metadata": {},
     "output_type": "execute_result"
    }
   ],
   "source": [
    "#PREDICT NUMBER OF CARS STOLEN IN A TOWN WITH 15 LAWYERS\n",
    "predict = np.poly1d(model)\n",
    "Number_of_Lawyers = 15\n",
    "predict(Number_of_Lawyers)"
   ]
  },
  {
   "cell_type": "code",
   "execution_count": 10,
   "id": "4f5fa41e",
   "metadata": {},
   "outputs": [
    {
     "data": {
      "text/plain": [
       "92.99817850637517"
      ]
     },
     "execution_count": 10,
     "metadata": {},
     "output_type": "execute_result"
    }
   ],
   "source": [
    "#PREDICT NUMBER OF CARS STOLEN IN A TOWN WITH 50 LAWYERS\n",
    "predict = np.poly1d(model)\n",
    "Number_of_Lawyers = 50\n",
    "predict(Number_of_Lawyers)"
   ]
  },
  {
   "cell_type": "code",
   "execution_count": 13,
   "id": "2236f099",
   "metadata": {},
   "outputs": [
    {
     "data": {
      "text/plain": [
       "0.8634186000578754"
      ]
     },
     "execution_count": 13,
     "metadata": {},
     "output_type": "execute_result"
    }
   ],
   "source": [
    "#CALCULATE THE ACCURACY OF THE MODEL (R-Squared value)\n",
    "from sklearn.metrics import r2_score\n",
    "r2_score(y, predict(x))"
   ]
  },
  {
   "cell_type": "code",
   "execution_count": 25,
   "id": "c02258cc",
   "metadata": {},
   "outputs": [
    {
     "data": {
      "image/png": "[encoded data removed]",
      "text/plain": [
       "<Figure size 432x288 with 1 Axes>"
      ]
     },
     "metadata": {
      "needs_background": "light"
     },
     "output_type": "display_data"
    }
   ],
   "source": [
    "#PLOTTING THE LINEAR REGRESSION MODEL\n",
    "x_lin_reg = range(0, 25)\n",
    "y_lin_reg = predict(x_lin_reg)\n",
    "plt.scatter(x, y)\n",
    "plt.plot(x_lin_reg, y_lin_reg, c = 'r')\n",
    "\n",
    "# Adding text on the plot.\n",
    "text = f\"$y={model[0]:0.3f}\\;x{model[1]:+0.3f}$\\n$R^2 = {r2_score(y, predict(x)):0.3f}$\"\n",
    "plt.gca().text(0.05, 0.95, text,transform=plt.gca().transAxes,\n",
    "     fontsize=14, verticalalignment='top')\n",
    "#Set label of axes\n",
    "plt.xlabel ('Number of Lawyers')\n",
    "plt.ylabel ('Number of cars stolen')\n",
    "\n",
    "plt.show()"
   ]
  }
 ],
 "metadata": {
  "kernelspec": {
   "display_name": "Python 3 (ipykernel)",
   "language": "python",
   "name": "python3"
  },
  "language_info": {
   "codemirror_mode": {
    "name": "ipython",
    "version": 3
   },
   "file_extension": ".py",
   "mimetype": "text/x-python",
   "name": "python",
   "nbconvert_exporter": "python",
   "pygments_lexer": "ipython3",
   "version": "3.9.7"
  }
 },
 "nbformat": 4,
 "nbformat_minor": 5
}
